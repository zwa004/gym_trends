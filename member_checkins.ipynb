{
 "cells": [
  {
   "cell_type": "code",
   "execution_count": 59,
   "metadata": {},
   "outputs": [],
   "source": [
    "import pandas as pd\n",
    "import numpy as np  "
   ]
  },
  {
   "cell_type": "code",
   "execution_count": 61,
   "metadata": {},
   "outputs": [],
   "source": [
    "jan_bins = np.array([0,1,2,3,4,5,6,7])"
   ]
  },
  {
   "cell_type": "code",
   "execution_count": 68,
   "metadata": {},
   "outputs": [
    {
     "data": {
      "text/plain": [
       "UserId            int64\n",
       "LastName         object\n",
       "FirstName        object\n",
       "TotalCheckins     int64\n",
       "dtype: object"
      ]
     },
     "execution_count": 68,
     "metadata": {},
     "output_type": "execute_result"
    }
   ],
   "source": [
    "col_list = ['UserId', 'FirstName', 'LastName', 'TotalCheckins']\n",
    "\n",
    "jan_df = pd.read_csv('Resources/Jan_checkins.csv', usecols=col_list)\n",
    "#jan_df[\"# of classes\"] = pd.cut(jan_df.TotalCheckins, jan_bins)\n",
    "#jan_df\n",
    "jan_df.dtypes"
   ]
  },
  {
   "cell_type": "code",
   "execution_count": 53,
   "metadata": {},
   "outputs": [
    {
     "data": {
      "text/html": [
       "<div>\n",
       "<style scoped>\n",
       "    .dataframe tbody tr th:only-of-type {\n",
       "        vertical-align: middle;\n",
       "    }\n",
       "\n",
       "    .dataframe tbody tr th {\n",
       "        vertical-align: top;\n",
       "    }\n",
       "\n",
       "    .dataframe thead th {\n",
       "        text-align: right;\n",
       "    }\n",
       "</style>\n",
       "<table border=\"1\" class=\"dataframe\">\n",
       "  <thead>\n",
       "    <tr style=\"text-align: right;\">\n",
       "      <th></th>\n",
       "      <th>UserId</th>\n",
       "      <th>LastName</th>\n",
       "      <th>FirstName</th>\n",
       "      <th>TotalCheckins</th>\n",
       "    </tr>\n",
       "  </thead>\n",
       "  <tbody>\n",
       "    <tr>\n",
       "      <th>0</th>\n",
       "      <td>75524645</td>\n",
       "      <td>Acy</td>\n",
       "      <td>Trevor</td>\n",
       "      <td>15</td>\n",
       "    </tr>\n",
       "    <tr>\n",
       "      <th>1</th>\n",
       "      <td>87585364</td>\n",
       "      <td>Adams</td>\n",
       "      <td>Elyse</td>\n",
       "      <td>0</td>\n",
       "    </tr>\n",
       "    <tr>\n",
       "      <th>2</th>\n",
       "      <td>87506651</td>\n",
       "      <td>Adams</td>\n",
       "      <td>Emily</td>\n",
       "      <td>0</td>\n",
       "    </tr>\n",
       "    <tr>\n",
       "      <th>3</th>\n",
       "      <td>75524705</td>\n",
       "      <td>Adams</td>\n",
       "      <td>Heather</td>\n",
       "      <td>10</td>\n",
       "    </tr>\n",
       "    <tr>\n",
       "      <th>4</th>\n",
       "      <td>75524434</td>\n",
       "      <td>Ahler</td>\n",
       "      <td>Cameron</td>\n",
       "      <td>10</td>\n",
       "    </tr>\n",
       "    <tr>\n",
       "      <th>...</th>\n",
       "      <td>...</td>\n",
       "      <td>...</td>\n",
       "      <td>...</td>\n",
       "      <td>...</td>\n",
       "    </tr>\n",
       "    <tr>\n",
       "      <th>290</th>\n",
       "      <td>75524649</td>\n",
       "      <td>Wood</td>\n",
       "      <td>Matt</td>\n",
       "      <td>15</td>\n",
       "    </tr>\n",
       "    <tr>\n",
       "      <th>291</th>\n",
       "      <td>85651924</td>\n",
       "      <td>Woods</td>\n",
       "      <td>Jonathan</td>\n",
       "      <td>0</td>\n",
       "    </tr>\n",
       "    <tr>\n",
       "      <th>292</th>\n",
       "      <td>75524588</td>\n",
       "      <td>Zegiestowsky</td>\n",
       "      <td>Tina</td>\n",
       "      <td>18</td>\n",
       "    </tr>\n",
       "    <tr>\n",
       "      <th>293</th>\n",
       "      <td>86762185</td>\n",
       "      <td>Zimmitti</td>\n",
       "      <td>Anthony</td>\n",
       "      <td>0</td>\n",
       "    </tr>\n",
       "    <tr>\n",
       "      <th>294</th>\n",
       "      <td>75524482</td>\n",
       "      <td>Zirkle</td>\n",
       "      <td>Molly</td>\n",
       "      <td>12</td>\n",
       "    </tr>\n",
       "  </tbody>\n",
       "</table>\n",
       "<p>295 rows × 4 columns</p>\n",
       "</div>"
      ],
      "text/plain": [
       "       UserId      LastName FirstName  TotalCheckins\n",
       "0    75524645           Acy    Trevor             15\n",
       "1    87585364         Adams     Elyse              0\n",
       "2    87506651         Adams     Emily              0\n",
       "3    75524705         Adams   Heather             10\n",
       "4    75524434         Ahler   Cameron             10\n",
       "..        ...           ...       ...            ...\n",
       "290  75524649          Wood      Matt             15\n",
       "291  85651924         Woods  Jonathan              0\n",
       "292  75524588  Zegiestowsky      Tina             18\n",
       "293  86762185      Zimmitti   Anthony              0\n",
       "294  75524482        Zirkle     Molly             12\n",
       "\n",
       "[295 rows x 4 columns]"
      ]
     },
     "execution_count": 53,
     "metadata": {},
     "output_type": "execute_result"
    }
   ],
   "source": [
    "feb_df = pd.read_csv('Resources/Feb_checkins.csv', usecols=col_list)\n",
    "feb_df"
   ]
  },
  {
   "cell_type": "code",
   "execution_count": 55,
   "metadata": {},
   "outputs": [
    {
     "data": {
      "text/plain": [
       "<bound method NDFrame.head of        UserId      LastName FirstName  TotalCheckins\n",
       "0    75524645           Acy    Trevor             20\n",
       "1    87585364         Adams     Elyse              0\n",
       "2    87506651         Adams     Emily              0\n",
       "3    75524705         Adams   Heather             14\n",
       "4    75524434         Ahler   Cameron              1\n",
       "..        ...           ...       ...            ...\n",
       "290  75524649          Wood      Matt             13\n",
       "291  85651924         Woods  Jonathan              0\n",
       "292  75524588  Zegiestowsky      Tina             20\n",
       "293  86762185      Zimmitti   Anthony              0\n",
       "294  75524482        Zirkle     Molly             13\n",
       "\n",
       "[295 rows x 4 columns]>"
      ]
     },
     "execution_count": 55,
     "metadata": {},
     "output_type": "execute_result"
    }
   ],
   "source": [
    "mar_df = pd.read_csv('Resources/March_checkins.csv', usecols=col_list)\n",
    "mar_df.head"
   ]
  },
  {
   "cell_type": "code",
   "execution_count": 56,
   "metadata": {},
   "outputs": [
    {
     "data": {
      "text/html": [
       "<div>\n",
       "<style scoped>\n",
       "    .dataframe tbody tr th:only-of-type {\n",
       "        vertical-align: middle;\n",
       "    }\n",
       "\n",
       "    .dataframe tbody tr th {\n",
       "        vertical-align: top;\n",
       "    }\n",
       "\n",
       "    .dataframe thead th {\n",
       "        text-align: right;\n",
       "    }\n",
       "</style>\n",
       "<table border=\"1\" class=\"dataframe\">\n",
       "  <thead>\n",
       "    <tr style=\"text-align: right;\">\n",
       "      <th></th>\n",
       "      <th>UserId</th>\n",
       "      <th>LastName</th>\n",
       "      <th>FirstName</th>\n",
       "      <th>TotalCheckins</th>\n",
       "    </tr>\n",
       "  </thead>\n",
       "  <tbody>\n",
       "    <tr>\n",
       "      <th>0</th>\n",
       "      <td>75524645</td>\n",
       "      <td>Acy</td>\n",
       "      <td>Trevor</td>\n",
       "      <td>16</td>\n",
       "    </tr>\n",
       "    <tr>\n",
       "      <th>1</th>\n",
       "      <td>87585364</td>\n",
       "      <td>Adams</td>\n",
       "      <td>Elyse</td>\n",
       "      <td>0</td>\n",
       "    </tr>\n",
       "    <tr>\n",
       "      <th>2</th>\n",
       "      <td>87506651</td>\n",
       "      <td>Adams</td>\n",
       "      <td>Emily</td>\n",
       "      <td>0</td>\n",
       "    </tr>\n",
       "    <tr>\n",
       "      <th>3</th>\n",
       "      <td>75524705</td>\n",
       "      <td>Adams</td>\n",
       "      <td>Heather</td>\n",
       "      <td>12</td>\n",
       "    </tr>\n",
       "    <tr>\n",
       "      <th>4</th>\n",
       "      <td>75524434</td>\n",
       "      <td>Ahler</td>\n",
       "      <td>Cameron</td>\n",
       "      <td>7</td>\n",
       "    </tr>\n",
       "    <tr>\n",
       "      <th>...</th>\n",
       "      <td>...</td>\n",
       "      <td>...</td>\n",
       "      <td>...</td>\n",
       "      <td>...</td>\n",
       "    </tr>\n",
       "    <tr>\n",
       "      <th>290</th>\n",
       "      <td>75524649</td>\n",
       "      <td>Wood</td>\n",
       "      <td>Matt</td>\n",
       "      <td>5</td>\n",
       "    </tr>\n",
       "    <tr>\n",
       "      <th>291</th>\n",
       "      <td>85651924</td>\n",
       "      <td>Woods</td>\n",
       "      <td>Jonathan</td>\n",
       "      <td>5</td>\n",
       "    </tr>\n",
       "    <tr>\n",
       "      <th>292</th>\n",
       "      <td>75524588</td>\n",
       "      <td>Zegiestowsky</td>\n",
       "      <td>Tina</td>\n",
       "      <td>16</td>\n",
       "    </tr>\n",
       "    <tr>\n",
       "      <th>293</th>\n",
       "      <td>86762185</td>\n",
       "      <td>Zimmitti</td>\n",
       "      <td>Anthony</td>\n",
       "      <td>0</td>\n",
       "    </tr>\n",
       "    <tr>\n",
       "      <th>294</th>\n",
       "      <td>75524482</td>\n",
       "      <td>Zirkle</td>\n",
       "      <td>Molly</td>\n",
       "      <td>9</td>\n",
       "    </tr>\n",
       "  </tbody>\n",
       "</table>\n",
       "<p>295 rows × 4 columns</p>\n",
       "</div>"
      ],
      "text/plain": [
       "       UserId      LastName FirstName  TotalCheckins\n",
       "0    75524645           Acy    Trevor             16\n",
       "1    87585364         Adams     Elyse              0\n",
       "2    87506651         Adams     Emily              0\n",
       "3    75524705         Adams   Heather             12\n",
       "4    75524434         Ahler   Cameron              7\n",
       "..        ...           ...       ...            ...\n",
       "290  75524649          Wood      Matt              5\n",
       "291  85651924         Woods  Jonathan              5\n",
       "292  75524588  Zegiestowsky      Tina             16\n",
       "293  86762185      Zimmitti   Anthony              0\n",
       "294  75524482        Zirkle     Molly              9\n",
       "\n",
       "[295 rows x 4 columns]"
      ]
     },
     "execution_count": 56,
     "metadata": {},
     "output_type": "execute_result"
    }
   ],
   "source": [
    "april_df = pd.read_csv('Resources/April_checkins.csv', usecols=col_list)\n",
    "april_df"
   ]
  },
  {
   "cell_type": "code",
   "execution_count": 57,
   "metadata": {},
   "outputs": [
    {
     "data": {
      "text/plain": [
       "<bound method NDFrame.head of        UserId      LastName FirstName  TotalCheckins\n",
       "0    75524645           Acy    Trevor             17\n",
       "1    87585364         Adams     Elyse              0\n",
       "2    87506651         Adams     Emily              0\n",
       "3    75524705         Adams   Heather             15\n",
       "4    75524434         Ahler   Cameron             11\n",
       "..        ...           ...       ...            ...\n",
       "290  75524649          Wood      Matt              0\n",
       "291  85651924         Woods  Jonathan             12\n",
       "292  75524588  Zegiestowsky      Tina             16\n",
       "293  86762185      Zimmitti   Anthony              0\n",
       "294  75524482        Zirkle     Molly             13\n",
       "\n",
       "[295 rows x 4 columns]>"
      ]
     },
     "execution_count": 57,
     "metadata": {},
     "output_type": "execute_result"
    }
   ],
   "source": [
    "may_df = pd.read_csv('Resources/May_checkins.csv', usecols=col_list)\n",
    "may_df.head"
   ]
  },
  {
   "cell_type": "code",
   "execution_count": null,
   "metadata": {},
   "outputs": [],
   "source": []
  }
 ],
 "metadata": {
  "interpreter": {
   "hash": "ad2bdc8ecc057115af97d19610ffacc2b4e99fae6737bb82f5d7fb13d2f2c186"
  },
  "kernelspec": {
   "display_name": "Python 3.9.7 ('base')",
   "language": "python",
   "name": "python3"
  },
  "language_info": {
   "codemirror_mode": {
    "name": "ipython",
    "version": 3
   },
   "file_extension": ".py",
   "mimetype": "text/x-python",
   "name": "python",
   "nbconvert_exporter": "python",
   "pygments_lexer": "ipython3",
   "version": "3.9.7"
  },
  "orig_nbformat": 4
 },
 "nbformat": 4,
 "nbformat_minor": 2
}
